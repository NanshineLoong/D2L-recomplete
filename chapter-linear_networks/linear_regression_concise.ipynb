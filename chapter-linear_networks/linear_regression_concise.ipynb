{
 "cells": [
  {
   "cell_type": "code",
   "execution_count": 22,
   "metadata": {},
   "outputs": [],
   "source": [
    "import torch \n",
    "import torch.nn as nn\n",
    "from torch.utils.data import DataLoader, TensorDataset "
   ]
  },
  {
   "cell_type": "markdown",
   "metadata": {},
   "source": [
    "# 生成模拟数据"
   ]
  },
  {
   "cell_type": "code",
   "execution_count": 19,
   "metadata": {},
   "outputs": [],
   "source": [
    "def synthetic_data(w, b, num_examples):\n",
    "    X = torch.normal(0, 1, size=(num_examples, len(w)))\n",
    "    Y = torch.matmul(X, w) + b\n",
    "    Y += torch.normal(0, 0.01, size = Y.shape)\n",
    "    return X, Y.reshape(-1, 1)"
   ]
  },
  {
   "cell_type": "code",
   "execution_count": 20,
   "metadata": {},
   "outputs": [],
   "source": [
    "true_w = torch.tensor([3.2, 4])\n",
    "true_b = 4.2\n",
    "features, labels = synthetic_data(true_w, true_b, 1000)"
   ]
  },
  {
   "cell_type": "markdown",
   "metadata": {},
   "source": [
    "# 获取数据迭代器"
   ]
  },
  {
   "cell_type": "code",
   "execution_count": 27,
   "metadata": {},
   "outputs": [],
   "source": [
    "def get_data_iter(data, batch_size, is_train=True):\n",
    "    dataset = TensorDataset(*data)\n",
    "    data_iter = DataLoader(dataset, batch_size, shuffle = is_train)\n",
    "    return data_iter"
   ]
  },
  {
   "cell_type": "code",
   "execution_count": 29,
   "metadata": {},
   "outputs": [],
   "source": [
    "data_iter = get_data_iter([features, labels], 10)"
   ]
  },
  {
   "cell_type": "code",
   "execution_count": 31,
   "metadata": {},
   "outputs": [
    {
     "data": {
      "text/plain": [
       "[tensor([[-0.4386, -1.1963],\n",
       "         [ 0.6923, -0.1040],\n",
       "         [ 1.5843, -0.3188],\n",
       "         [-0.3641, -0.2749],\n",
       "         [ 1.2557, -1.6779],\n",
       "         [-0.1862, -0.3417],\n",
       "         [ 0.6682, -1.3999],\n",
       "         [ 1.1975,  0.2846],\n",
       "         [-1.3019,  2.2075],\n",
       "         [-0.0748,  1.9454]]),\n",
       " tensor([[-1.9917],\n",
       "         [ 6.0024],\n",
       "         [ 8.0046],\n",
       "         [ 1.9243],\n",
       "         [ 1.5199],\n",
       "         [ 2.2368],\n",
       "         [ 0.7314],\n",
       "         [ 9.1652],\n",
       "         [ 8.8734],\n",
       "         [11.7320]])]"
      ]
     },
     "execution_count": 31,
     "metadata": {},
     "output_type": "execute_result"
    }
   ],
   "source": [
    "next(iter(data_iter))"
   ]
  },
  {
   "cell_type": "markdown",
   "metadata": {},
   "source": [
    "# 模型，优化器，损失函数"
   ]
  },
  {
   "cell_type": "code",
   "execution_count": 35,
   "metadata": {},
   "outputs": [],
   "source": [
    "net = nn.Sequential(nn.Linear(2, 1))\n",
    "# 初始化canshu\n",
    "net[0].weight.data.normal_(0, 0.01)\n",
    "net[0].bias.data.fill_(0.0)\n",
    "\n",
    "optimizer = torch.optim.SGD(net.parameters(), lr = 0.03)\n",
    "loss_func = nn.MSELoss()"
   ]
  },
  {
   "cell_type": "markdown",
   "metadata": {},
   "source": [
    "# 训练"
   ]
  },
  {
   "cell_type": "code",
   "execution_count": 39,
   "metadata": {},
   "outputs": [
    {
     "name": "stdout",
     "output_type": "stream",
     "text": [
      "epoch: 0, loss: 4.796232678927481e-05\n",
      "epoch: 1, loss: 7.420527253998443e-05\n",
      "epoch: 2, loss: 7.121392991393805e-05\n",
      "epoch: 3, loss: 9.217062324751168e-05\n",
      "epoch: 4, loss: 6.221771764103323e-05\n",
      "epoch: 5, loss: 5.615618283627555e-05\n",
      "epoch: 6, loss: 0.00015340746904257685\n",
      "epoch: 7, loss: 7.011611160123721e-05\n",
      "epoch: 8, loss: 3.2252231903839856e-05\n",
      "epoch: 9, loss: 8.344273373950273e-05\n"
     ]
    }
   ],
   "source": [
    "epoch_nums = 10\n",
    "\n",
    "for epoch in range(epoch_nums):\n",
    "    for X, y in data_iter:\n",
    "        loss = loss_func(net(X), y)\n",
    "        optimizer.zero_grad()\n",
    "        loss.backward()\n",
    "        optimizer.step()\n",
    "    loss = loss_func(net(X), y)\n",
    "    print(f\"epoch: {epoch}, loss: {loss}\")\n"
   ]
  },
  {
   "cell_type": "code",
   "execution_count": 40,
   "metadata": {},
   "outputs": [
    {
     "data": {
      "text/plain": [
       "(tensor([[3.1995, 3.9998]]), tensor([4.2002]))"
      ]
     },
     "execution_count": 40,
     "metadata": {},
     "output_type": "execute_result"
    }
   ],
   "source": [
    "net[0].weight.data, net[0].bias.data"
   ]
  }
 ],
 "metadata": {
  "kernelspec": {
   "display_name": "d2l",
   "language": "python",
   "name": "python3"
  },
  "language_info": {
   "codemirror_mode": {
    "name": "ipython",
    "version": 3
   },
   "file_extension": ".py",
   "mimetype": "text/x-python",
   "name": "python",
   "nbconvert_exporter": "python",
   "pygments_lexer": "ipython3",
   "version": "3.9.17"
  },
  "orig_nbformat": 4
 },
 "nbformat": 4,
 "nbformat_minor": 2
}
