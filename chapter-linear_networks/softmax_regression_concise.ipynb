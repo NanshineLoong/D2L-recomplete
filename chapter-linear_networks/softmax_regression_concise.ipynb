{
 "cells": [
  {
   "cell_type": "code",
   "execution_count": 8,
   "metadata": {},
   "outputs": [],
   "source": [
    "import torch\n",
    "import torch.nn as nn\n",
    "from torch.utils.data import DataLoader\n",
    "import torchvision\n",
    "from torchvision import transforms\n",
    "from torch.optim import SGD"
   ]
  },
  {
   "cell_type": "code",
   "execution_count": 5,
   "metadata": {},
   "outputs": [],
   "source": [
    "# 加载数据\n",
    "def load_data_fashion_mnist(batch_size):\n",
    "    trans = transforms.Compose([transforms.ToTensor()])\n",
    "    mnist_train = torchvision.datasets.FashionMNIST('../data', train=True, transform=trans, download=True)\n",
    "    mnist_test = torchvision.datasets.FashionMNIST('../data', train=False, transform=trans, download=True)\n",
    "    return (\n",
    "        DataLoader(mnist_train, batch_size=batch_size, shuffle=True),\n",
    "        DataLoader(mnist_test, batch_size=batch_size, shuffle=True)\n",
    "    )"
   ]
  },
  {
   "cell_type": "code",
   "execution_count": 7,
   "metadata": {},
   "outputs": [],
   "source": [
    "train_iter, test_iter = load_data_fashion_mnist(256)"
   ]
  },
  {
   "cell_type": "code",
   "execution_count": 13,
   "metadata": {},
   "outputs": [],
   "source": [
    "# 建立模型，损失函数，优化器\n",
    "net = nn.Sequential(nn.Flatten(), nn.Linear(28 * 28, 10))\n",
    "\n",
    "def init_net(module):\n",
    "    if isinstance(module, nn.Linear):\n",
    "        nn.init.normal_(module.weight.data, std=0.01)\n",
    "        nn.init.zeros_(module.bias.data)\n",
    "net.apply(init_net)\n",
    "\n",
    "updater = SGD(net.parameters(), lr=0.01, )\n",
    "loss_func = nn.CrossEntropyLoss(reduction='none')"
   ]
  },
  {
   "cell_type": "code",
   "execution_count": 14,
   "metadata": {},
   "outputs": [],
   "source": [
    "class Accumulator:\n",
    "    def __init__(self, n):\n",
    "        self.data = [0.0] * n\n",
    "    def add(self, *args):\n",
    "        self.data = [a + float(b) for a, b in zip(self.data, args)]\n",
    "    def reset(self):\n",
    "        self.data = [0.0] * len(self.data)\n",
    "    def __getitem__(self, idx):\n",
    "        return self.data[idx]"
   ]
  },
  {
   "cell_type": "code",
   "execution_count": 25,
   "metadata": {},
   "outputs": [
    {
     "data": {
      "text/plain": [
       "torch.int64"
      ]
     },
     "execution_count": 25,
     "metadata": {},
     "output_type": "execute_result"
    }
   ],
   "source": [
    "y = torch.arange(4)\n",
    "y.type(torch.float32)\n"
   ]
  },
  {
   "cell_type": "code",
   "execution_count": 33,
   "metadata": {},
   "outputs": [],
   "source": [
    "# 训练\n",
    "def train_epoch(train_iter, net, loss_func, updater):\n",
    "    for X, y in train_iter:\n",
    "        y_hat = net(X)\n",
    "        loss = loss_func(y_hat, y)\n",
    "        updater.zero_grad()\n",
    "        loss.sum().backward()\n",
    "        updater.step()\n",
    "    \n",
    "# 准确率\n",
    "def accuracy(y_hat, y):\n",
    "    if len(y_hat.shape) > 1 and y_hat.shape[1] > 1:\n",
    "        y_hat = y_hat.argmax(1)\n",
    "    cmp = y_hat.type(y.dtype) == y\n",
    "    return float(cmp.type(y.dtype).sum())\n",
    "\n",
    "# 评估\n",
    "def evaluate_accuracy(test_iter, net):\n",
    "    metrics = Accumulator(2)\n",
    "    with torch.no_grad():\n",
    "        for X, y in test_iter:\n",
    "            y_hat = net(X)\n",
    "            acc = accuracy(y_hat, y)\n",
    "            metrics.add(acc, y.numel())\n",
    "    return metrics[0]/metrics[1]\n"
   ]
  },
  {
   "cell_type": "code",
   "execution_count": 34,
   "metadata": {},
   "outputs": [],
   "source": [
    "# 迭代训练\n",
    "def train(net, train_iter, test_iter, updater, loss_func, num_epochs):\n",
    "    for epoch in range(num_epochs):\n",
    "        train_epoch(train_iter, net, loss_func, updater)\n",
    "        acc = evaluate_accuracy(test_iter, net)\n",
    "        print(f'epoch: {epoch}, acc: {acc}')\n"
   ]
  },
  {
   "cell_type": "code",
   "execution_count": 35,
   "metadata": {},
   "outputs": [
    {
     "name": "stdout",
     "output_type": "stream",
     "text": [
      "epoch: 0, acc: 0.8081\n",
      "epoch: 1, acc: 0.8368\n",
      "epoch: 2, acc: 0.8298\n",
      "epoch: 3, acc: 0.8092\n",
      "epoch: 4, acc: 0.8178\n",
      "epoch: 5, acc: 0.8046\n",
      "epoch: 6, acc: 0.8249\n",
      "epoch: 7, acc: 0.8218\n",
      "epoch: 8, acc: 0.8391\n",
      "epoch: 9, acc: 0.8291\n"
     ]
    }
   ],
   "source": [
    "train(net, train_iter, test_iter, updater, loss_func, 10)"
   ]
  }
 ],
 "metadata": {
  "kernelspec": {
   "display_name": "d2l",
   "language": "python",
   "name": "python3"
  },
  "language_info": {
   "codemirror_mode": {
    "name": "ipython",
    "version": 3
   },
   "file_extension": ".py",
   "mimetype": "text/x-python",
   "name": "python",
   "nbconvert_exporter": "python",
   "pygments_lexer": "ipython3",
   "version": "3.9.17"
  },
  "orig_nbformat": 4
 },
 "nbformat": 4,
 "nbformat_minor": 2
}
