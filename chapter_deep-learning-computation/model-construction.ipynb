{
 "cells": [
  {
   "cell_type": "code",
   "execution_count": 1,
   "metadata": {},
   "outputs": [],
   "source": [
    "import torch\n",
    "import torch.nn as nn"
   ]
  },
  {
   "cell_type": "code",
   "execution_count": 2,
   "metadata": {},
   "outputs": [],
   "source": [
    "class MLP(nn.Module):\n",
    "    def __init__(self, num_inputs, num_hiddens, num_outputs):\n",
    "        super().__init__()\n",
    "        self.lin1 = nn.Linear(num_inputs, num_hiddens)\n",
    "        self.lin2 = nn.Linear(num_hiddens, num_outputs)\n",
    "\n",
    "        self.relu = nn.ReLU()\n",
    "\n",
    "    def forward(self, X):\n",
    "        X_h = self.relu(self.lin1(X))\n",
    "        X_h = self.lin2(X_h)\n",
    "        return X_h"
   ]
  },
  {
   "cell_type": "code",
   "execution_count": 4,
   "metadata": {},
   "outputs": [
    {
     "data": {
      "text/plain": [
       "tensor([[0.3141, 0.4658],\n",
       "        [0.2512, 0.4324]], grad_fn=<AddmmBackward0>)"
      ]
     },
     "execution_count": 4,
     "metadata": {},
     "output_type": "execute_result"
    }
   ],
   "source": [
    "X = torch.rand(2, 20)\n",
    "\n",
    "mlp = MLP(20, 20, 2)\n",
    "mlp(X)"
   ]
  },
  {
   "cell_type": "code",
   "execution_count": 13,
   "metadata": {},
   "outputs": [],
   "source": [
    "class MySequential(nn.Module):\n",
    "    def __init__(self, *args, **kwargs) -> None:\n",
    "        super().__init__()\n",
    "        for idx, module in enumerate(args):\n",
    "            self._modules[str(idx)] = module\n",
    "    \n",
    "    def forward(self, X):\n",
    "        for module in self._modules.values():\n",
    "            X = module(X)\n",
    "        return X"
   ]
  },
  {
   "cell_type": "code",
   "execution_count": 14,
   "metadata": {},
   "outputs": [],
   "source": [
    "class MySequential2(nn.Module):\n",
    "    def __init__(self, *args, **kwargs) -> None:\n",
    "        super().__init__()\n",
    "        self.modules = []\n",
    "        for idx, module in enumerate(args):\n",
    "            self.modules.append(module)\n",
    "    \n",
    "    def forward(self, X):\n",
    "        for module in self.modules:\n",
    "            X = module(X)\n",
    "        return X"
   ]
  },
  {
   "cell_type": "code",
   "execution_count": 16,
   "metadata": {},
   "outputs": [
    {
     "name": "stdout",
     "output_type": "stream",
     "text": [
      "-------X1-----------\n",
      "tensor([[-0.3467, -0.0927],\n",
      "        [-0.3443, -0.2894]], grad_fn=<AddmmBackward0>)\n",
      "-------X2-----------\n",
      "tensor([[-0.3467, -0.0927],\n",
      "        [-0.3443, -0.2894]], grad_fn=<AddmmBackward0>)\n",
      "-------X3-----------\n",
      "tensor([[-0.3467, -0.0927],\n",
      "        [-0.3443, -0.2894]], grad_fn=<AddmmBackward0>)\n"
     ]
    }
   ],
   "source": [
    "lin1 = nn.Linear(20, 20)\n",
    "lin2 = nn.Linear(20, 2)\n",
    "\n",
    "net1 = MySequential(lin1, nn.ReLU(), lin2)\n",
    "net2 = nn.Sequential(lin1, nn.ReLU(), lin2)\n",
    "net3 = MySequential2(lin1, nn.ReLU(), lin2)\n",
    "X1 = net1(X)\n",
    "X2 = net2(X)\n",
    "X3 = net3(X)\n",
    "\n",
    "print(\"-------X1-----------\")\n",
    "print(X1)\n",
    "print(\"-------X2-----------\")\n",
    "print(X2)\n",
    "print(\"-------X3-----------\")\n",
    "print(X3)\n"
   ]
  },
  {
   "cell_type": "code",
   "execution_count": 20,
   "metadata": {},
   "outputs": [],
   "source": [
    "class FixedHiddenMLP(nn.Module):\n",
    "    def __init__(self, num_examples, num_inputs, num_outputs):\n",
    "        super().__init__()\n",
    "        self.lin1 = nn.Linear(num_inputs, num_outputs)\n",
    "        self.C = torch.randn((num_outputs, num_outputs), requires_grad=False)\n",
    "\n",
    "        self.relu = nn.ReLU()\n",
    "    \n",
    "    def forward(self, X):\n",
    "        X = self.lin1(X)\n",
    "        X = torch.mm(X, self.C)\n",
    "        X = self.lin1(X)\n",
    "        return X"
   ]
  }
 ],
 "metadata": {
  "kernelspec": {
   "display_name": "d2l",
   "language": "python",
   "name": "python3"
  },
  "language_info": {
   "codemirror_mode": {
    "name": "ipython",
    "version": 3
   },
   "file_extension": ".py",
   "mimetype": "text/x-python",
   "name": "python",
   "nbconvert_exporter": "python",
   "pygments_lexer": "ipython3",
   "version": "3.9.17"
  },
  "orig_nbformat": 4
 },
 "nbformat": 4,
 "nbformat_minor": 2
}
