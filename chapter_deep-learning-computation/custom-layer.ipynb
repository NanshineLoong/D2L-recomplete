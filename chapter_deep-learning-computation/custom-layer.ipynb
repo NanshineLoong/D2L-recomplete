{
 "cells": [
  {
   "cell_type": "code",
   "execution_count": 25,
   "metadata": {},
   "outputs": [],
   "source": [
    "import torch\n",
    "import torch.nn as nn\n",
    "import torch.nn.functional as F"
   ]
  },
  {
   "cell_type": "code",
   "execution_count": 26,
   "metadata": {},
   "outputs": [],
   "source": [
    "class MyLinear(nn.Module):\n",
    "    def __init__(self, in_features, out_features):\n",
    "        super().__init__()\n",
    "        self.weight = nn.Parameter(torch.normal(0, 1, size=(in_features, out_features)), requires_grad=True)\n",
    "        self.bias = nn.Parameter(torch.zeros(out_features), requires_grad=True)\n",
    "    \n",
    "    def forward(self, X):\n",
    "        X = torch.matmul(X, self.weight) + self.bias\n",
    "        return F.relu(X)"
   ]
  },
  {
   "cell_type": "code",
   "execution_count": 29,
   "metadata": {},
   "outputs": [
    {
     "name": "stdout",
     "output_type": "stream",
     "text": [
      "0.weight\n",
      "Parameter containing:\n",
      "tensor([[-0.3029, -0.3045,  0.0876, -0.2961],\n",
      "        [-0.0731, -0.1994,  0.4533,  0.3864],\n",
      "        [-0.0198, -0.3556,  0.1820, -0.4715],\n",
      "        [ 0.2560, -0.1573, -0.3486, -0.1724]], requires_grad=True)\n",
      "0.bias\n",
      "Parameter containing:\n",
      "tensor([ 0.4821, -0.4918, -0.4103, -0.1729], requires_grad=True)\n",
      "1.weight\n",
      "Parameter containing:\n",
      "tensor([[-1.2699, -0.6160],\n",
      "        [ 0.3675,  0.5463],\n",
      "        [-0.8753,  1.0485],\n",
      "        [ 1.0848,  0.4043]], requires_grad=True)\n",
      "1.bias\n",
      "Parameter containing:\n",
      "tensor([0., 0.], requires_grad=True)\n",
      "linear3.weight\n",
      "Parameter containing:\n",
      "tensor([[ 0.0378, -0.3278],\n",
      "        [ 0.6380,  0.4654]], requires_grad=True)\n",
      "linear3.bias\n",
      "Parameter containing:\n",
      "tensor([-0.0418, -0.0626], requires_grad=True)\n"
     ]
    }
   ],
   "source": [
    "X = torch.randn((2, 4))\n",
    "linear = MyLinear(4, 2)\n",
    "net = nn.Sequential(nn.Linear(4, 4), MyLinear(4, 2))\n",
    "net.add_module('linear3', nn.Linear(2,2))\n",
    "Y = net(X).sum()\n",
    "Y.backward()\n",
    "for name, parameter in net.named_parameters():\n",
    "    print(name)\n",
    "    print(parameter)"
   ]
  }
 ],
 "metadata": {
  "kernelspec": {
   "display_name": "d2l",
   "language": "python",
   "name": "python3"
  },
  "language_info": {
   "codemirror_mode": {
    "name": "ipython",
    "version": 3
   },
   "file_extension": ".py",
   "mimetype": "text/x-python",
   "name": "python",
   "nbconvert_exporter": "python",
   "pygments_lexer": "ipython3",
   "version": "3.9.17"
  },
  "orig_nbformat": 4
 },
 "nbformat": 4,
 "nbformat_minor": 2
}
