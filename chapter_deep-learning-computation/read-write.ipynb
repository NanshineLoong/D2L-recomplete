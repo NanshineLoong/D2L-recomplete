{
 "cells": [
  {
   "cell_type": "code",
   "execution_count": 1,
   "metadata": {},
   "outputs": [],
   "source": [
    "import torch\n",
    "import torch.nn as nn\n",
    "import torch.nn.functional as F"
   ]
  },
  {
   "cell_type": "code",
   "execution_count": 9,
   "metadata": {},
   "outputs": [],
   "source": [
    "x = torch.arange(16)\n",
    "y = torch.arange(14)\n",
    "mydict = {'x': x, 'y': y}\n",
    "torch.save(mydict, 'xfile')"
   ]
  },
  {
   "cell_type": "code",
   "execution_count": 11,
   "metadata": {},
   "outputs": [
    {
     "data": {
      "text/plain": [
       "{'x': tensor([ 0,  1,  2,  3,  4,  5,  6,  7,  8,  9, 10, 11, 12, 13, 14, 15]),\n",
       " 'y': tensor([ 0,  1,  2,  3,  4,  5,  6,  7,  8,  9, 10, 11, 12, 13])}"
      ]
     },
     "execution_count": 11,
     "metadata": {},
     "output_type": "execute_result"
    }
   ],
   "source": [
    "y = torch.load('xfile')\n",
    "y"
   ]
  },
  {
   "cell_type": "code",
   "execution_count": 13,
   "metadata": {},
   "outputs": [],
   "source": [
    "class MLP(nn.Module):\n",
    "    def __init__(self, in_features, hiddent_features, out_features):\n",
    "        super().__init__()\n",
    "        self.hidden = nn.Linear(in_features, hiddent_features)\n",
    "        self.output = nn.Linear(hiddent_features, out_features)\n",
    "\n",
    "    def forward(self, X):\n",
    "        return self.output(F.relu(self.hidden(X)))"
   ]
  },
  {
   "cell_type": "code",
   "execution_count": 21,
   "metadata": {},
   "outputs": [],
   "source": [
    "mlp = MLP(4, 4, 2)\n",
    "torch.save(mlp.state_dict(), 'mlp.para')\n",
    "# mlp.state_dict()['hidden.weight']"
   ]
  },
  {
   "cell_type": "code",
   "execution_count": 31,
   "metadata": {},
   "outputs": [],
   "source": [
    "torch.save(mlp.hidden.state_dict(), 'mlp.hidden')"
   ]
  },
  {
   "cell_type": "code",
   "execution_count": 34,
   "metadata": {},
   "outputs": [
    {
     "name": "stdout",
     "output_type": "stream",
     "text": [
      "OrderedDict([('hidden.weight', tensor([[-0.1669,  0.2007, -0.4371,  0.3459],\n",
      "        [-0.4563, -0.4004,  0.4291,  0.1189],\n",
      "        [ 0.1339, -0.0764, -0.0350, -0.0192],\n",
      "        [-0.1320, -0.2697,  0.3986, -0.4880]])), ('hidden.bias', tensor([-0.0992, -0.0421, -0.0349, -0.2349])), ('output.weight', tensor([[-0.0732,  0.3844,  0.0986, -0.4351],\n",
      "        [-0.4490,  0.3948, -0.1851, -0.1446]])), ('output.bias', tensor([0.2127, 0.0678]))])\n",
      "---------------------------------------\n",
      "OrderedDict([('hidden.weight', tensor([[ 0.2376,  0.4709, -0.1415,  0.4940],\n",
      "        [ 0.1422,  0.3347,  0.4226, -0.0052],\n",
      "        [ 0.4344,  0.0966,  0.0682, -0.0658],\n",
      "        [ 0.3832,  0.2399,  0.0902,  0.3147]])), ('hidden.bias', tensor([ 0.0258, -0.1412,  0.2597,  0.0015])), ('output.weight', tensor([[-0.0732,  0.3844,  0.0986, -0.4351],\n",
      "        [-0.4490,  0.3948, -0.1851, -0.1446]])), ('output.bias', tensor([0.2127, 0.0678]))])\n"
     ]
    }
   ],
   "source": [
    "mlp2 = MLP(4, 4, 2)\n",
    "print(mlp2.state_dict())\n",
    "mlp2.hidden.load_state_dict(torch.load('mlp.hidden'), strict=False)\n",
    "print('---------------------------------------')\n",
    "print(mlp2.state_dict())"
   ]
  }
 ],
 "metadata": {
  "kernelspec": {
   "display_name": "d2l",
   "language": "python",
   "name": "python3"
  },
  "language_info": {
   "codemirror_mode": {
    "name": "ipython",
    "version": 3
   },
   "file_extension": ".py",
   "mimetype": "text/x-python",
   "name": "python",
   "nbconvert_exporter": "python",
   "pygments_lexer": "ipython3",
   "version": "3.9.17"
  },
  "orig_nbformat": 4
 },
 "nbformat": 4,
 "nbformat_minor": 2
}
