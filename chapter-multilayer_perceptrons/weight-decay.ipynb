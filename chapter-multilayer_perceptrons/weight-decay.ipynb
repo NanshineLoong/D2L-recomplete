{
 "cells": [
  {
   "cell_type": "code",
   "execution_count": 11,
   "metadata": {},
   "outputs": [],
   "source": [
    "import torch\n",
    "import torch.nn\n",
    "import random\n",
    "from torch.utils.data import TensorDataset, DataLoader\n",
    "import d2l.torch as d2l"
   ]
  },
  {
   "cell_type": "code",
   "execution_count": 5,
   "metadata": {},
   "outputs": [
    {
     "data": {
      "text/plain": [
       "[0, 1, 2]"
      ]
     },
     "execution_count": 5,
     "metadata": {},
     "output_type": "execute_result"
    }
   ],
   "source": [
    "list(range(0, 3))"
   ]
  },
  {
   "cell_type": "code",
   "execution_count": 9,
   "metadata": {},
   "outputs": [],
   "source": [
    "# 生成数据\n",
    "n_train, n_test, n_features, batch_size = 20, 100, 200, 5\n",
    "true_w, true_b = torch.ones((n_features, 1)), 0.5\n",
    "\n",
    "def synthetic_data(w, b, num_example):\n",
    "    X = torch.normal(0, 1, size=(num_example, n_features))\n",
    "    y = torch.matmul(X, w) + b\n",
    "    y += torch.normal(0, 0.01, size=y.shape)\n",
    "    return X, y\n",
    "\n",
    "train_features, train_labels = synthetic_data(true_w, true_b, n_train)\n",
    "test_features, test_labels = synthetic_data(true_w, true_b, n_test)\n",
    "\n",
    "# def load_tensor(features, labels, batch_size):\n",
    "#     n = len(features)\n",
    "#     indices = list(range(n))\n",
    "#     random.shuffle(indices)\n",
    "#     for i in range(0, n, batch_size):\n",
    "#         last_indice = min(i + batch_size - 1, n - 1)\n",
    "#         yield features[i:last_indice, :], labels[i:last_indice]\n",
    "\n",
    "def load_tensor(features, labels,batch_size, is_train=False): \n",
    "    dataset = TensorDataset(features, labels)\n",
    "    return DataLoader(dataset, batch_size, shuffle=is_train)\n",
    "\n",
    "train_iter = load_tensor(train_features, train_labels, batch_size, is_train=True)\n",
    "test_iter = load_tensor(test_features, test_labels, batch_size, is_train=False)"
   ]
  },
  {
   "cell_type": "code",
   "execution_count": 12,
   "metadata": {},
   "outputs": [],
   "source": [
    "def L2(w):\n",
    "    return torch.sum(w.pow(2))/2"
   ]
  },
  {
   "cell_type": "code",
   "execution_count": null,
   "metadata": {},
   "outputs": [],
   "source": [
    "def linreg(w, b, )"
   ]
  },
  {
   "cell_type": "code",
   "execution_count": null,
   "metadata": {},
   "outputs": [],
   "source": [
    "def train():\n",
    "    w = torch.tensor(w, b)\n",
    "    animation = d2l.Animator(\n",
    "        xlabel='epoch', ylabel='loss', \n",
    "        legend=['train, test'], xlim=[5, 100], yscale='log')\n",
    "    for X, y in train_iter:\n"
   ]
  }
 ],
 "metadata": {
  "kernelspec": {
   "display_name": "d2l",
   "language": "python",
   "name": "python3"
  },
  "language_info": {
   "codemirror_mode": {
    "name": "ipython",
    "version": 3
   },
   "file_extension": ".py",
   "mimetype": "text/x-python",
   "name": "python",
   "nbconvert_exporter": "python",
   "pygments_lexer": "ipython3",
   "version": "3.9.17"
  },
  "orig_nbformat": 4
 },
 "nbformat": 4,
 "nbformat_minor": 2
}
