{
 "cells": [
  {
   "cell_type": "code",
   "execution_count": 90,
   "metadata": {},
   "outputs": [],
   "source": [
    "import torch\n",
    "import torch.nn as nn\n",
    "from torch.optim import SGD\n",
    "from tool import load_data_fashion_mnist, evaluate_accuracy, train_epoch, accuracy, train\n",
    "from d2l import torch as d2l"
   ]
  },
  {
   "cell_type": "code",
   "execution_count": 91,
   "metadata": {},
   "outputs": [],
   "source": [
    "train_iter, test_iter = load_data_fashion_mnist(256)"
   ]
  },
  {
   "cell_type": "code",
   "execution_count": 92,
   "metadata": {},
   "outputs": [],
   "source": [
    "num_inputs = 28 * 28\n",
    "num_hiddens = 256\n",
    "num_outputs = 10\n",
    "W1 = nn.Parameter(torch.randn(num_inputs, num_hiddens, requires_grad=True)*0.01)\n",
    "b1 = nn.Parameter(torch.zeros(num_hiddens, requires_grad=True))\n",
    "\n",
    "W2 = nn.Parameter(torch.randn(num_hiddens, num_outputs, requires_grad=True)*0.01)\n",
    "b2 = nn.Parameter(torch.zeros(num_outputs, requires_grad=True))"
   ]
  },
  {
   "cell_type": "code",
   "execution_count": 93,
   "metadata": {},
   "outputs": [],
   "source": [
    "def relu(X):\n",
    "    a = torch.zeros_like(X)\n",
    "    return torch.max(X, a)\n",
    "\n",
    "def net(X):\n",
    "    X = X.reshape(-1, 28 * 28)\n",
    "    X_hidden = relu(X@W1 + b1)\n",
    "    return X_hidden@W2 + b2\n",
    "    "
   ]
  },
  {
   "cell_type": "code",
   "execution_count": 94,
   "metadata": {},
   "outputs": [],
   "source": [
    "loss_func = nn.CrossEntropyLoss(reduction='none')\n",
    "updater = SGD([W1, b1, W2, b2], lr=0.1)"
   ]
  },
  {
   "cell_type": "code",
   "execution_count": 95,
   "metadata": {},
   "outputs": [
    {
     "name": "stdout",
     "output_type": "stream",
     "text": [
      "epoch: 0, acc: 0.1\n",
      "epoch: 1, acc: 0.1\n",
      "epoch: 2, acc: 0.1\n",
      "epoch: 3, acc: 0.1\n",
      "epoch: 4, acc: 0.1\n",
      "epoch: 5, acc: 0.1\n",
      "epoch: 6, acc: 0.1\n",
      "epoch: 7, acc: 0.1\n",
      "epoch: 8, acc: 0.1\n",
      "epoch: 9, acc: 0.1\n"
     ]
    }
   ],
   "source": [
    "# d2l.train_ch3(net, train_iter, test_iter, loss_func, 10, updater)\n",
    "train(net, train_iter, test_iter, updater, loss_func, 10) # 有问题"
   ]
  }
 ],
 "metadata": {
  "kernelspec": {
   "display_name": "d2l",
   "language": "python",
   "name": "python3"
  },
  "language_info": {
   "codemirror_mode": {
    "name": "ipython",
    "version": 3
   },
   "file_extension": ".py",
   "mimetype": "text/x-python",
   "name": "python",
   "nbconvert_exporter": "python",
   "pygments_lexer": "ipython3",
   "version": "3.9.17"
  },
  "orig_nbformat": 4
 },
 "nbformat": 4,
 "nbformat_minor": 2
}
